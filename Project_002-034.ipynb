{
 "cells": [
  {
   "cell_type": "markdown",
   "id": "1c01e3f0-8bb8-4977-a3ba-84b61b659a73",
   "metadata": {},
   "source": [
    "# DSCI 100 002-034 Group Project Proposal"
   ]
  },
  {
   "cell_type": "markdown",
   "id": "b4e8aff6-7b02-44a0-b2ab-49a60109bbc0",
   "metadata": {},
   "source": [
    "## Introduction\n",
    "Question: To determine the sex of a person based on height, weight and different body measurements\n",
    "<br>Provide some relevant background information on the topic so that someone unfamiliar with it will be prepared to understand the rest of your proposal\n",
    "Clearly state the question you will try to answer with your project\n",
    "<br>Identify and describe the dataset that will be used to answer the question\n"
   ]
  },
  {
   "cell_type": "code",
   "execution_count": 8,
   "id": "73fcfe5f-970d-4d88-b4b1-d9228cf07fc0",
   "metadata": {},
   "outputs": [],
   "source": [
    "library(tidyverse)\n",
    "library(repr)\n",
    "options(repr.matrix.max.rows = 6)\n"
   ]
  },
  {
   "cell_type": "code",
   "execution_count": 9,
   "id": "dc3143ea-230d-4177-9dc0-7652b1467400",
   "metadata": {},
   "outputs": [
    {
     "ename": "ERROR",
     "evalue": "Error in read_html(\"https://www.kaggle.com/datasets/mexwell/body-measurements/data?select=bdims.csv\"): could not find function \"read_html\"\n",
     "output_type": "error",
     "traceback": [
      "Error in read_html(\"https://www.kaggle.com/datasets/mexwell/body-measurements/data?select=bdims.csv\"): could not find function \"read_html\"\nTraceback:\n"
     ]
    }
   ],
   "source": []
  },
  {
   "cell_type": "code",
   "execution_count": 15,
   "id": "6f6840db-40c0-4614-8f58-cf33ddb4a33a",
   "metadata": {},
   "outputs": [],
   "source": [
    "download.file(\"https://www.kaggle.com/datasets/mexwell/body-measurements/data?select=bdims.csv\", \"data/data.csv\")"
   ]
  },
  {
   "cell_type": "code",
   "execution_count": 20,
   "id": "85bfdab3-7574-4e3f-92cd-77b7135b0ad1",
   "metadata": {},
   "outputs": [
    {
     "name": "stderr",
     "output_type": "stream",
     "text": [
      "Warning message:\n",
      "“\u001b[1m\u001b[22mOne or more parsing issues, call `problems()` on your data frame for details,\n",
      "e.g.:\n",
      "  dat <- vroom(...)\n",
      "  problems(dat)”\n",
      "\u001b[1mRows: \u001b[22m\u001b[34m143\u001b[39m \u001b[1mColumns: \u001b[22m\u001b[34m1\u001b[39m\n",
      "\u001b[36m──\u001b[39m \u001b[1mColumn specification\u001b[22m \u001b[36m────────────────────────────────────────────────────────\u001b[39m\n",
      "\u001b[1mDelimiter:\u001b[22m \",\"\n",
      "\u001b[31mchr\u001b[39m (1): X1\n",
      "\n",
      "\u001b[36mℹ\u001b[39m Use `spec()` to retrieve the full column specification for this data.\n",
      "\u001b[36mℹ\u001b[39m Specify the column types or set `show_col_types = FALSE` to quiet this message.\n"
     ]
    },
    {
     "data": {
      "text/html": [
       "<table class=\"dataframe\">\n",
       "<caption>A spec_tbl_df: 143 × 1</caption>\n",
       "<thead>\n",
       "\t<tr><th scope=col>X1</th></tr>\n",
       "\t<tr><th scope=col>&lt;chr&gt;</th></tr>\n",
       "</thead>\n",
       "<tbody>\n",
       "\t<tr><td>&lt;!DOCTYPE html&gt; </td></tr>\n",
       "\t<tr><td>&lt;html lang=\"en\"&gt;</td></tr>\n",
       "\t<tr><td><span style=white-space:pre-wrap>&lt;head&gt;          </span></td></tr>\n",
       "\t<tr><td>⋮</td></tr>\n",
       "\t<tr><td>&lt;/main&gt;</td></tr>\n",
       "\t<tr><td>&lt;/body&gt;</td></tr>\n",
       "\t<tr><td>&lt;/html&gt;</td></tr>\n",
       "</tbody>\n",
       "</table>\n"
      ],
      "text/latex": [
       "A spec\\_tbl\\_df: 143 × 1\n",
       "\\begin{tabular}{l}\n",
       " X1\\\\\n",
       " <chr>\\\\\n",
       "\\hline\n",
       "\t <!DOCTYPE html> \\\\\n",
       "\t <html lang=\"en\">\\\\\n",
       "\t <head>          \\\\\n",
       "\t ⋮\\\\\n",
       "\t </main>\\\\\n",
       "\t </body>\\\\\n",
       "\t </html>\\\\\n",
       "\\end{tabular}\n"
      ],
      "text/markdown": [
       "\n",
       "A spec_tbl_df: 143 × 1\n",
       "\n",
       "| X1 &lt;chr&gt; |\n",
       "|---|\n",
       "| &lt;!DOCTYPE html&gt;  |\n",
       "| &lt;html lang=\"en\"&gt; |\n",
       "| &lt;head&gt;           |\n",
       "| ⋮ |\n",
       "| &lt;/main&gt; |\n",
       "| &lt;/body&gt; |\n",
       "| &lt;/html&gt; |\n",
       "\n"
      ],
      "text/plain": [
       "    X1              \n",
       "1   <!DOCTYPE html> \n",
       "2   <html lang=\"en\">\n",
       "3   <head>          \n",
       "⋮   ⋮               \n",
       "141 </main>         \n",
       "142 </body>         \n",
       "143 </html>         "
      ]
     },
     "metadata": {},
     "output_type": "display_data"
    }
   ],
   "source": [
    "data <- read_csv(\"https://www.kaggle.com/datasets/mexwell/body-measurements/data?select=bdims.csv\", col_names = FALSE)\n",
    "data"
   ]
  },
  {
   "cell_type": "markdown",
   "id": "b62ab7ad-64f2-4a34-a80e-178e2ee236c4",
   "metadata": {},
   "source": [
    "## Preliminary exploratory data analysis:\n",
    "<br>Demonstrate that the dataset can be read from the web into R \n",
    "<br>Clean and wrangle your data into a tidy format\n",
    "<br>Using only training data, summarize the data in at least one table (this is exploratory data analysis). An example of a useful table could be one that reports the number of observations in each class, the means of the predictor variables you plan to use in your analysis and how many rows have missing data. \n",
    "<br>Using only training data, visualize the data with at least one plot relevant to the analysis you plan to do (this is exploratory data analysis). An example of a useful visualization could be one that compares the distributions of each of the predictor variables you plan to use in your analysis."
   ]
  },
  {
   "cell_type": "markdown",
   "id": "f9d025c3-a05e-4228-a8f6-fe6221339707",
   "metadata": {},
   "source": [
    "## Methods:\n",
    "Explain how you will conduct either your data analysis and which variables/columns you will use. Note - you do not need to use all variables/columns that exist in the raw data set. In fact, that's often not a good idea. For each variable think: is this a useful variable for prediction?\n",
    "Describe at least one way that you will visualize the results\n",
    "Expected outcomes and significance:\n",
    "What do you expect to find?\n",
    "What impact could such findings have?\n",
    "What future questions could this lead to?"
   ]
  },
  {
   "cell_type": "code",
   "execution_count": null,
   "id": "5b3c14ca-5efb-45b6-8434-65be3dbcc2d3",
   "metadata": {},
   "outputs": [],
   "source": []
  }
 ],
 "metadata": {
  "kernelspec": {
   "display_name": "R",
   "language": "R",
   "name": "ir"
  },
  "language_info": {
   "codemirror_mode": "r",
   "file_extension": ".r",
   "mimetype": "text/x-r-source",
   "name": "R",
   "pygments_lexer": "r",
   "version": "4.3.1"
  }
 },
 "nbformat": 4,
 "nbformat_minor": 5
}
