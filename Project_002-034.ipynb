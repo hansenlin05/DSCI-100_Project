{
 "cells": [
  {
   "cell_type": "markdown",
   "id": "bc2d12cd-f7c7-4af2-b3f9-0c79fb702f8c",
   "metadata": {},
   "source": [
    "Mark Down Test"
   ]
  },
  {
   "cell_type": "code",
   "execution_count": null,
   "id": "bea84637-81a4-4c5a-8b0b-15e6f9f65f41",
   "metadata": {},
   "outputs": [],
   "source": []
  }
 ],
 "metadata": {
  "kernelspec": {
   "display_name": "R",
   "language": "R",
   "name": "ir"
  },
  "language_info": {
   "codemirror_mode": "r",
   "file_extension": ".r",
   "mimetype": "text/x-r-source",
   "name": "R",
   "pygments_lexer": "r",
   "version": "4.3.1"
  }
 },
 "nbformat": 4,
 "nbformat_minor": 5
}
