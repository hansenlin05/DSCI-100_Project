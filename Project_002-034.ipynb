{
 "cells": [
  {
   "cell_type": "markdown",
   "id": "1c01e3f0-8bb8-4977-a3ba-84b61b659a73",
   "metadata": {},
   "source": [
    "# DSCI 100 002-034 Group Project Proposal"
   ]
  },
  {
   "cell_type": "markdown",
   "id": "b4e8aff6-7b02-44a0-b2ab-49a60109bbc0",
   "metadata": {
    "jp-MarkdownHeadingCollapsed": true
   },
   "source": [
    "## Introduction\n",
    "<br>Provide some relevant background information on the topic so that someone unfamiliar with it will be prepared to understand the rest of your proposal\n",
    "Clearly state the question you will try to answer with your project\n",
    "<br>Identify and describe the dataset that will be used to answer the question\n"
   ]
  },
  {
   "cell_type": "markdown",
   "id": "b62ab7ad-64f2-4a34-a80e-178e2ee236c4",
   "metadata": {},
   "source": [
    "## Preliminary exploratory data analysis:\n",
    "<br>Demonstrate that the dataset can be read from the web into R \n",
    "<br>Clean and wrangle your data into a tidy format\n",
    "<br>Using only training data, summarize the data in at least one table (this is exploratory data analysis). An example of a useful table could be one that reports the number of observations in each class, the means of the predictor variables you plan to use in your analysis and how many rows have missing data. \n",
    "<br>Using only training data, visualize the data with at least one plot relevant to the analysis you plan to do (this is exploratory data analysis). An example of a useful visualization could be one that compares the distributions of each of the predictor variables you plan to use in your analysis."
   ]
  },
  {
   "cell_type": "markdown",
   "id": "f9d025c3-a05e-4228-a8f6-fe6221339707",
   "metadata": {},
   "source": [
    "## Methods:\n",
    "Explain how you will conduct either your data analysis and which variables/columns you will use. Note - you do not need to use all variables/columns that exist in the raw data set. In fact, that's often not a good idea. For each variable think: is this a useful variable for prediction?\n",
    "Describe at least one way that you will visualize the results\n",
    "Expected outcomes and significance:\n",
    "What do you expect to find?\n",
    "What impact could such findings have?\n",
    "What future questions could this lead to?"
   ]
  },
  {
   "cell_type": "code",
   "execution_count": null,
   "id": "5b3c14ca-5efb-45b6-8434-65be3dbcc2d3",
   "metadata": {},
   "outputs": [],
   "source": []
  }
 ],
 "metadata": {
  "kernelspec": {
   "display_name": "R",
   "language": "R",
   "name": "ir"
  },
  "language_info": {
   "codemirror_mode": "r",
   "file_extension": ".r",
   "mimetype": "text/x-r-source",
   "name": "R",
   "pygments_lexer": "r",
   "version": "4.3.1"
  }
 },
 "nbformat": 4,
 "nbformat_minor": 5
}
