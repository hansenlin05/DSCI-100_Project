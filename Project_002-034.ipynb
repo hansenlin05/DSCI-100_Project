{
 "cells": [
  {
   "cell_type": "markdown",
   "id": "1c01e3f0-8bb8-4977-a3ba-84b61b659a73",
   "metadata": {},
   "source": [
    "# DSCI 100 002-034 Group Project Proposal"
   ]
  },
  {
   "cell_type": "markdown",
   "id": "b4e8aff6-7b02-44a0-b2ab-49a60109bbc0",
   "metadata": {},
   "source": [
    "## Introduction\n",
    "Question: To determine the sex of a person based on height, weight and different body measurements\n",
    "<br>Provide some relevant background information on the topic so that someone unfamiliar with it will be prepared to understand the rest of your proposal\n",
    "Clearly state the question you will try to answer with your project\n",
    "<br>Identify and describe the dataset that will be used to answer the question\n"
   ]
  },
  {
   "cell_type": "markdown",
   "id": "b62ab7ad-64f2-4a34-a80e-178e2ee236c4",
   "metadata": {},
   "source": [
    "## Preliminary exploratory data analysis:\n",
    "<br>Demonstrating that the dataset can be read from the web into R "
   ]
  },
  {
   "cell_type": "code",
   "execution_count": null,
   "id": "fcb0b3b3-f737-43fc-af86-a7e247044024",
   "metadata": {},
   "outputs": [],
   "source": [
    "# Importing the necessary packages\n",
    "library(tidyverse)\n",
    "library(tidymodels)"
   ]
  },
  {
   "cell_type": "code",
   "execution_count": 30,
   "id": "f3d83796-09be-4d6d-8f46-9b060e2e13b1",
   "metadata": {},
   "outputs": [
    {
     "name": "stderr",
     "output_type": "stream",
     "text": [
      "\u001b[1mRows: \u001b[22m\u001b[34m507\u001b[39m \u001b[1mColumns: \u001b[22m\u001b[34m25\u001b[39m\n",
      "\u001b[36m──\u001b[39m \u001b[1mColumn specification\u001b[22m \u001b[36m────────────────────────────────────────────────────────\u001b[39m\n",
      "\u001b[1mDelimiter:\u001b[22m \"\\t\"\n",
      "\u001b[32mdbl\u001b[39m (25): bia_di, bii_di, bit_di, che_de, che_di, elb_di, wri_di, kne_di, an...\n",
      "\n",
      "\u001b[36mℹ\u001b[39m Use `spec()` to retrieve the full column specification for this data.\n",
      "\u001b[36mℹ\u001b[39m Specify the column types or set `show_col_types = FALSE` to quiet this message.\n"
     ]
    },
    {
     "data": {
      "text/html": [
       "<table class=\"dataframe\">\n",
       "<caption>A spec_tbl_df: 507 × 25</caption>\n",
       "<thead>\n",
       "\t<tr><th scope=col>bia_di</th><th scope=col>bii_di</th><th scope=col>bit_di</th><th scope=col>che_de</th><th scope=col>che_di</th><th scope=col>elb_di</th><th scope=col>wri_di</th><th scope=col>kne_di</th><th scope=col>ank_di</th><th scope=col>sho_gi</th><th scope=col>⋯</th><th scope=col>bic_gi</th><th scope=col>for_gi</th><th scope=col>kne_gi</th><th scope=col>cal_gi</th><th scope=col>ank_gi</th><th scope=col>wri_gi</th><th scope=col>age</th><th scope=col>wgt</th><th scope=col>hgt</th><th scope=col>sex</th></tr>\n",
       "\t<tr><th scope=col>&lt;dbl&gt;</th><th scope=col>&lt;dbl&gt;</th><th scope=col>&lt;dbl&gt;</th><th scope=col>&lt;dbl&gt;</th><th scope=col>&lt;dbl&gt;</th><th scope=col>&lt;dbl&gt;</th><th scope=col>&lt;dbl&gt;</th><th scope=col>&lt;dbl&gt;</th><th scope=col>&lt;dbl&gt;</th><th scope=col>&lt;dbl&gt;</th><th scope=col>⋯</th><th scope=col>&lt;dbl&gt;</th><th scope=col>&lt;dbl&gt;</th><th scope=col>&lt;dbl&gt;</th><th scope=col>&lt;dbl&gt;</th><th scope=col>&lt;dbl&gt;</th><th scope=col>&lt;dbl&gt;</th><th scope=col>&lt;dbl&gt;</th><th scope=col>&lt;dbl&gt;</th><th scope=col>&lt;dbl&gt;</th><th scope=col>&lt;dbl&gt;</th></tr>\n",
       "</thead>\n",
       "<tbody>\n",
       "\t<tr><td>42.9</td><td>26.0</td><td>31.5</td><td>17.7</td><td>28.0</td><td>13.1</td><td>10.4</td><td>18.8</td><td>14.1</td><td>106.2</td><td>⋯</td><td>32.5</td><td>26.0</td><td>34.5</td><td>36.5</td><td>23.5</td><td>16.5</td><td>21</td><td>65.6</td><td>174.0</td><td>1</td></tr>\n",
       "\t<tr><td>43.7</td><td>28.5</td><td>33.5</td><td>16.9</td><td>30.8</td><td>14.0</td><td>11.8</td><td>20.6</td><td>15.1</td><td>110.5</td><td>⋯</td><td>34.4</td><td>28.0</td><td>36.5</td><td>37.5</td><td>24.5</td><td>17.0</td><td>23</td><td>71.8</td><td>175.3</td><td>1</td></tr>\n",
       "\t<tr><td>40.1</td><td>28.2</td><td>33.3</td><td>20.9</td><td>31.7</td><td>13.9</td><td>10.9</td><td>19.7</td><td>14.1</td><td>115.1</td><td>⋯</td><td>33.4</td><td>28.8</td><td>37.0</td><td>37.3</td><td>21.9</td><td>16.9</td><td>28</td><td>80.7</td><td>193.5</td><td>1</td></tr>\n",
       "\t<tr><td>⋮</td><td>⋮</td><td>⋮</td><td>⋮</td><td>⋮</td><td>⋮</td><td>⋮</td><td>⋮</td><td>⋮</td><td>⋮</td><td>⋱</td><td>⋮</td><td>⋮</td><td>⋮</td><td>⋮</td><td>⋮</td><td>⋮</td><td>⋮</td><td>⋮</td><td>⋮</td><td>⋮</td></tr>\n",
       "\t<tr><td>34.7</td><td>24.9</td><td>24.7</td><td>17.3</td><td>24.2</td><td>12.0</td><td>10.2</td><td>18.0</td><td>13.6</td><td> 91.9</td><td>⋯</td><td>27.4</td><td>24.0</td><td>34.4</td><td>34.1</td><td>21.2</td><td>15.5</td><td>33</td><td>48.6</td><td>160.7</td><td>0</td></tr>\n",
       "\t<tr><td>38.5</td><td>29.0</td><td>32.9</td><td>15.3</td><td>25.6</td><td>12.0</td><td> 9.8</td><td>18.6</td><td>13.3</td><td>107.1</td><td>⋯</td><td>30.6</td><td>24.9</td><td>38.4</td><td>36.6</td><td>22.0</td><td>15.5</td><td>33</td><td>66.4</td><td>174.0</td><td>0</td></tr>\n",
       "\t<tr><td>35.6</td><td>29.0</td><td>29.0</td><td>20.4</td><td>26.8</td><td>13.4</td><td>10.8</td><td>18.7</td><td>13.8</td><td>100.5</td><td>⋯</td><td>33.2</td><td>25.5</td><td>39.6</td><td>35.9</td><td>23.0</td><td>16.4</td><td>38</td><td>67.3</td><td>163.8</td><td>0</td></tr>\n",
       "</tbody>\n",
       "</table>\n"
      ],
      "text/latex": [
       "A spec\\_tbl\\_df: 507 × 25\n",
       "\\begin{tabular}{lllllllllllllllllllll}\n",
       " bia\\_di & bii\\_di & bit\\_di & che\\_de & che\\_di & elb\\_di & wri\\_di & kne\\_di & ank\\_di & sho\\_gi & ⋯ & bic\\_gi & for\\_gi & kne\\_gi & cal\\_gi & ank\\_gi & wri\\_gi & age & wgt & hgt & sex\\\\\n",
       " <dbl> & <dbl> & <dbl> & <dbl> & <dbl> & <dbl> & <dbl> & <dbl> & <dbl> & <dbl> & ⋯ & <dbl> & <dbl> & <dbl> & <dbl> & <dbl> & <dbl> & <dbl> & <dbl> & <dbl> & <dbl>\\\\\n",
       "\\hline\n",
       "\t 42.9 & 26.0 & 31.5 & 17.7 & 28.0 & 13.1 & 10.4 & 18.8 & 14.1 & 106.2 & ⋯ & 32.5 & 26.0 & 34.5 & 36.5 & 23.5 & 16.5 & 21 & 65.6 & 174.0 & 1\\\\\n",
       "\t 43.7 & 28.5 & 33.5 & 16.9 & 30.8 & 14.0 & 11.8 & 20.6 & 15.1 & 110.5 & ⋯ & 34.4 & 28.0 & 36.5 & 37.5 & 24.5 & 17.0 & 23 & 71.8 & 175.3 & 1\\\\\n",
       "\t 40.1 & 28.2 & 33.3 & 20.9 & 31.7 & 13.9 & 10.9 & 19.7 & 14.1 & 115.1 & ⋯ & 33.4 & 28.8 & 37.0 & 37.3 & 21.9 & 16.9 & 28 & 80.7 & 193.5 & 1\\\\\n",
       "\t ⋮ & ⋮ & ⋮ & ⋮ & ⋮ & ⋮ & ⋮ & ⋮ & ⋮ & ⋮ & ⋱ & ⋮ & ⋮ & ⋮ & ⋮ & ⋮ & ⋮ & ⋮ & ⋮ & ⋮ & ⋮\\\\\n",
       "\t 34.7 & 24.9 & 24.7 & 17.3 & 24.2 & 12.0 & 10.2 & 18.0 & 13.6 &  91.9 & ⋯ & 27.4 & 24.0 & 34.4 & 34.1 & 21.2 & 15.5 & 33 & 48.6 & 160.7 & 0\\\\\n",
       "\t 38.5 & 29.0 & 32.9 & 15.3 & 25.6 & 12.0 &  9.8 & 18.6 & 13.3 & 107.1 & ⋯ & 30.6 & 24.9 & 38.4 & 36.6 & 22.0 & 15.5 & 33 & 66.4 & 174.0 & 0\\\\\n",
       "\t 35.6 & 29.0 & 29.0 & 20.4 & 26.8 & 13.4 & 10.8 & 18.7 & 13.8 & 100.5 & ⋯ & 33.2 & 25.5 & 39.6 & 35.9 & 23.0 & 16.4 & 38 & 67.3 & 163.8 & 0\\\\\n",
       "\\end{tabular}\n"
      ],
      "text/markdown": [
       "\n",
       "A spec_tbl_df: 507 × 25\n",
       "\n",
       "| bia_di &lt;dbl&gt; | bii_di &lt;dbl&gt; | bit_di &lt;dbl&gt; | che_de &lt;dbl&gt; | che_di &lt;dbl&gt; | elb_di &lt;dbl&gt; | wri_di &lt;dbl&gt; | kne_di &lt;dbl&gt; | ank_di &lt;dbl&gt; | sho_gi &lt;dbl&gt; | ⋯ ⋯ | bic_gi &lt;dbl&gt; | for_gi &lt;dbl&gt; | kne_gi &lt;dbl&gt; | cal_gi &lt;dbl&gt; | ank_gi &lt;dbl&gt; | wri_gi &lt;dbl&gt; | age &lt;dbl&gt; | wgt &lt;dbl&gt; | hgt &lt;dbl&gt; | sex &lt;dbl&gt; |\n",
       "|---|---|---|---|---|---|---|---|---|---|---|---|---|---|---|---|---|---|---|---|---|\n",
       "| 42.9 | 26.0 | 31.5 | 17.7 | 28.0 | 13.1 | 10.4 | 18.8 | 14.1 | 106.2 | ⋯ | 32.5 | 26.0 | 34.5 | 36.5 | 23.5 | 16.5 | 21 | 65.6 | 174.0 | 1 |\n",
       "| 43.7 | 28.5 | 33.5 | 16.9 | 30.8 | 14.0 | 11.8 | 20.6 | 15.1 | 110.5 | ⋯ | 34.4 | 28.0 | 36.5 | 37.5 | 24.5 | 17.0 | 23 | 71.8 | 175.3 | 1 |\n",
       "| 40.1 | 28.2 | 33.3 | 20.9 | 31.7 | 13.9 | 10.9 | 19.7 | 14.1 | 115.1 | ⋯ | 33.4 | 28.8 | 37.0 | 37.3 | 21.9 | 16.9 | 28 | 80.7 | 193.5 | 1 |\n",
       "| ⋮ | ⋮ | ⋮ | ⋮ | ⋮ | ⋮ | ⋮ | ⋮ | ⋮ | ⋮ | ⋱ | ⋮ | ⋮ | ⋮ | ⋮ | ⋮ | ⋮ | ⋮ | ⋮ | ⋮ | ⋮ |\n",
       "| 34.7 | 24.9 | 24.7 | 17.3 | 24.2 | 12.0 | 10.2 | 18.0 | 13.6 |  91.9 | ⋯ | 27.4 | 24.0 | 34.4 | 34.1 | 21.2 | 15.5 | 33 | 48.6 | 160.7 | 0 |\n",
       "| 38.5 | 29.0 | 32.9 | 15.3 | 25.6 | 12.0 |  9.8 | 18.6 | 13.3 | 107.1 | ⋯ | 30.6 | 24.9 | 38.4 | 36.6 | 22.0 | 15.5 | 33 | 66.4 | 174.0 | 0 |\n",
       "| 35.6 | 29.0 | 29.0 | 20.4 | 26.8 | 13.4 | 10.8 | 18.7 | 13.8 | 100.5 | ⋯ | 33.2 | 25.5 | 39.6 | 35.9 | 23.0 | 16.4 | 38 | 67.3 | 163.8 | 0 |\n",
       "\n"
      ],
      "text/plain": [
       "    bia_di bii_di bit_di che_de che_di elb_di wri_di kne_di ank_di sho_gi ⋯\n",
       "1   42.9   26.0   31.5   17.7   28.0   13.1   10.4   18.8   14.1   106.2  ⋯\n",
       "2   43.7   28.5   33.5   16.9   30.8   14.0   11.8   20.6   15.1   110.5  ⋯\n",
       "3   40.1   28.2   33.3   20.9   31.7   13.9   10.9   19.7   14.1   115.1  ⋯\n",
       "⋮   ⋮      ⋮      ⋮      ⋮      ⋮      ⋮      ⋮      ⋮      ⋮      ⋮      ⋱\n",
       "505 34.7   24.9   24.7   17.3   24.2   12.0   10.2   18.0   13.6    91.9  ⋯\n",
       "506 38.5   29.0   32.9   15.3   25.6   12.0    9.8   18.6   13.3   107.1  ⋯\n",
       "507 35.6   29.0   29.0   20.4   26.8   13.4   10.8   18.7   13.8   100.5  ⋯\n",
       "    bic_gi for_gi kne_gi cal_gi ank_gi wri_gi age wgt  hgt   sex\n",
       "1   32.5   26.0   34.5   36.5   23.5   16.5   21  65.6 174.0 1  \n",
       "2   34.4   28.0   36.5   37.5   24.5   17.0   23  71.8 175.3 1  \n",
       "3   33.4   28.8   37.0   37.3   21.9   16.9   28  80.7 193.5 1  \n",
       "⋮   ⋮      ⋮      ⋮      ⋮      ⋮      ⋮      ⋮   ⋮    ⋮     ⋮  \n",
       "505 27.4   24.0   34.4   34.1   21.2   15.5   33  48.6 160.7 0  \n",
       "506 30.6   24.9   38.4   36.6   22.0   15.5   33  66.4 174.0 0  \n",
       "507 33.2   25.5   39.6   35.9   23.0   16.4   38  67.3 163.8 0  "
      ]
     },
     "metadata": {},
     "output_type": "display_data"
    }
   ],
   "source": [
    "# Reading the tsv file (Source : https://www.kaggle.com/datasets/mexwell/body-measurements)\n",
    "\n",
    "bm_data <- read_tsv(\"https://www.openintro.org/data/tab-delimited/bdims.txt\")\n",
    "bm_data"
   ]
  },
  {
   "cell_type": "markdown",
   "id": "3f481712-64a0-4392-867c-4bda8e261008",
   "metadata": {},
   "source": [
    "<br>Cleaning the data into a tidy format"
   ]
  },
  {
   "cell_type": "code",
   "execution_count": 32,
   "id": "497f1a5b-407c-4419-8044-186fb7dce18a",
   "metadata": {},
   "outputs": [
    {
     "data": {
      "text/html": [
       "<table class=\"dataframe\">\n",
       "<caption>A tibble: 507 × 10</caption>\n",
       "<thead>\n",
       "\t<tr><th scope=col>sho_gi</th><th scope=col>che_gi</th><th scope=col>wai_gi</th><th scope=col>hip_gi</th><th scope=col>thi_gi</th><th scope=col>bic_gi</th><th scope=col>age</th><th scope=col>wgt</th><th scope=col>hgt</th><th scope=col>sex</th></tr>\n",
       "\t<tr><th scope=col>&lt;dbl&gt;</th><th scope=col>&lt;dbl&gt;</th><th scope=col>&lt;dbl&gt;</th><th scope=col>&lt;dbl&gt;</th><th scope=col>&lt;dbl&gt;</th><th scope=col>&lt;dbl&gt;</th><th scope=col>&lt;dbl&gt;</th><th scope=col>&lt;dbl&gt;</th><th scope=col>&lt;dbl&gt;</th><th scope=col>&lt;dbl&gt;</th></tr>\n",
       "</thead>\n",
       "<tbody>\n",
       "\t<tr><td>106.2</td><td>89.5</td><td>71.5</td><td>93.5</td><td>51.5</td><td>32.5</td><td>21</td><td>65.6</td><td>174.0</td><td>1</td></tr>\n",
       "\t<tr><td>110.5</td><td>97.0</td><td>79.0</td><td>94.8</td><td>51.5</td><td>34.4</td><td>23</td><td>71.8</td><td>175.3</td><td>1</td></tr>\n",
       "\t<tr><td>115.1</td><td>97.5</td><td>83.2</td><td>95.0</td><td>57.3</td><td>33.4</td><td>28</td><td>80.7</td><td>193.5</td><td>1</td></tr>\n",
       "\t<tr><td>⋮</td><td>⋮</td><td>⋮</td><td>⋮</td><td>⋮</td><td>⋮</td><td>⋮</td><td>⋮</td><td>⋮</td><td>⋮</td></tr>\n",
       "\t<tr><td> 91.9</td><td>78.1</td><td>57.9</td><td> 86.9</td><td>51.8</td><td>27.4</td><td>33</td><td>48.6</td><td>160.7</td><td>0</td></tr>\n",
       "\t<tr><td>107.1</td><td>90.9</td><td>72.2</td><td> 98.6</td><td>59.0</td><td>30.6</td><td>33</td><td>66.4</td><td>174.0</td><td>0</td></tr>\n",
       "\t<tr><td>100.5</td><td>97.1</td><td>80.4</td><td>102.2</td><td>57.4</td><td>33.2</td><td>38</td><td>67.3</td><td>163.8</td><td>0</td></tr>\n",
       "</tbody>\n",
       "</table>\n"
      ],
      "text/latex": [
       "A tibble: 507 × 10\n",
       "\\begin{tabular}{llllllllll}\n",
       " sho\\_gi & che\\_gi & wai\\_gi & hip\\_gi & thi\\_gi & bic\\_gi & age & wgt & hgt & sex\\\\\n",
       " <dbl> & <dbl> & <dbl> & <dbl> & <dbl> & <dbl> & <dbl> & <dbl> & <dbl> & <dbl>\\\\\n",
       "\\hline\n",
       "\t 106.2 & 89.5 & 71.5 & 93.5 & 51.5 & 32.5 & 21 & 65.6 & 174.0 & 1\\\\\n",
       "\t 110.5 & 97.0 & 79.0 & 94.8 & 51.5 & 34.4 & 23 & 71.8 & 175.3 & 1\\\\\n",
       "\t 115.1 & 97.5 & 83.2 & 95.0 & 57.3 & 33.4 & 28 & 80.7 & 193.5 & 1\\\\\n",
       "\t ⋮ & ⋮ & ⋮ & ⋮ & ⋮ & ⋮ & ⋮ & ⋮ & ⋮ & ⋮\\\\\n",
       "\t  91.9 & 78.1 & 57.9 &  86.9 & 51.8 & 27.4 & 33 & 48.6 & 160.7 & 0\\\\\n",
       "\t 107.1 & 90.9 & 72.2 &  98.6 & 59.0 & 30.6 & 33 & 66.4 & 174.0 & 0\\\\\n",
       "\t 100.5 & 97.1 & 80.4 & 102.2 & 57.4 & 33.2 & 38 & 67.3 & 163.8 & 0\\\\\n",
       "\\end{tabular}\n"
      ],
      "text/markdown": [
       "\n",
       "A tibble: 507 × 10\n",
       "\n",
       "| sho_gi &lt;dbl&gt; | che_gi &lt;dbl&gt; | wai_gi &lt;dbl&gt; | hip_gi &lt;dbl&gt; | thi_gi &lt;dbl&gt; | bic_gi &lt;dbl&gt; | age &lt;dbl&gt; | wgt &lt;dbl&gt; | hgt &lt;dbl&gt; | sex &lt;dbl&gt; |\n",
       "|---|---|---|---|---|---|---|---|---|---|\n",
       "| 106.2 | 89.5 | 71.5 | 93.5 | 51.5 | 32.5 | 21 | 65.6 | 174.0 | 1 |\n",
       "| 110.5 | 97.0 | 79.0 | 94.8 | 51.5 | 34.4 | 23 | 71.8 | 175.3 | 1 |\n",
       "| 115.1 | 97.5 | 83.2 | 95.0 | 57.3 | 33.4 | 28 | 80.7 | 193.5 | 1 |\n",
       "| ⋮ | ⋮ | ⋮ | ⋮ | ⋮ | ⋮ | ⋮ | ⋮ | ⋮ | ⋮ |\n",
       "|  91.9 | 78.1 | 57.9 |  86.9 | 51.8 | 27.4 | 33 | 48.6 | 160.7 | 0 |\n",
       "| 107.1 | 90.9 | 72.2 |  98.6 | 59.0 | 30.6 | 33 | 66.4 | 174.0 | 0 |\n",
       "| 100.5 | 97.1 | 80.4 | 102.2 | 57.4 | 33.2 | 38 | 67.3 | 163.8 | 0 |\n",
       "\n"
      ],
      "text/plain": [
       "    sho_gi che_gi wai_gi hip_gi thi_gi bic_gi age wgt  hgt   sex\n",
       "1   106.2  89.5   71.5   93.5   51.5   32.5   21  65.6 174.0 1  \n",
       "2   110.5  97.0   79.0   94.8   51.5   34.4   23  71.8 175.3 1  \n",
       "3   115.1  97.5   83.2   95.0   57.3   33.4   28  80.7 193.5 1  \n",
       "⋮   ⋮      ⋮      ⋮      ⋮      ⋮      ⋮      ⋮   ⋮    ⋮     ⋮  \n",
       "505  91.9  78.1   57.9    86.9  51.8   27.4   33  48.6 160.7 0  \n",
       "506 107.1  90.9   72.2    98.6  59.0   30.6   33  66.4 174.0 0  \n",
       "507 100.5  97.1   80.4   102.2  57.4   33.2   38  67.3 163.8 0  "
      ]
     },
     "metadata": {},
     "output_type": "display_data"
    }
   ],
   "source": [
    "# Tidying and organising the data\n",
    "bm_tidy <- bm_data |>\n",
    "            select(sho_gi, che_gi, wai_gi, hip_gi, thi_gi, bic_gi, age, wgt, hgt, sex)#selecting relevant columns\n",
    "bm_tidy"
   ]
  },
  {
   "cell_type": "markdown",
   "id": "1c14740a-929d-40b1-b401-c2a17ceadf76",
   "metadata": {},
   "source": [
    "<br>Using only training data, summarize the data in at least one table (this is exploratory data analysis). An example of a useful table could be one that reports the number of observations in each class, the means of the predictor variables you plan to use in your analysis and how many rows have missing data. \n",
    "<br>Using only training data, visualize the data with at least one plot relevant to the analysis you plan to do (this is exploratory data analysis). An example of a useful visualization could be one that compares the distributions of each of the predictor variables you plan to use in your analysis."
   ]
  },
  {
   "cell_type": "markdown",
   "id": "f9d025c3-a05e-4228-a8f6-fe6221339707",
   "metadata": {},
   "source": [
    "## Methods:\n",
    "Explain how you will conduct either your data analysis and which variables/columns you will use. Note - you do not need to use all variables/columns that exist in the raw data set. In fact, that's often not a good idea. For each variable think: is this a useful variable for prediction?\n",
    "Describe at least one way that you will visualize the results\n",
    "Expected outcomes and significance:\n",
    "What do you expect to find?\n",
    "What impact could such findings have?\n",
    "What future questions could this lead to?"
   ]
  },
  {
   "cell_type": "code",
   "execution_count": null,
   "id": "5b3c14ca-5efb-45b6-8434-65be3dbcc2d3",
   "metadata": {},
   "outputs": [],
   "source": []
  }
 ],
 "metadata": {
  "kernelspec": {
   "display_name": "R",
   "language": "R",
   "name": "ir"
  },
  "language_info": {
   "codemirror_mode": "r",
   "file_extension": ".r",
   "mimetype": "text/x-r-source",
   "name": "R",
   "pygments_lexer": "r",
   "version": "4.3.1"
  }
 },
 "nbformat": 4,
 "nbformat_minor": 5
}
