{
 "cells": [
  {
   "cell_type": "markdown",
   "id": "85c3ef19-4d4d-4aac-8849-e0a08abd7ea0",
   "metadata": {},
   "source": [
    "# DSCI 100 002-034 \n",
    "# Group Project Final Report\n"
   ]
  },
  {
   "cell_type": "markdown",
   "id": "df99b64a-957c-4e32-b0e5-ddd8ee2019df",
   "metadata": {},
   "source": [
    "## Classifying Gender base on Body Measure Data"
   ]
  },
  {
   "cell_type": "markdown",
   "id": "9a48929b-9ec2-4c6f-9a91-f8fa2c1e7af5",
   "metadata": {},
   "source": [
    "### Introduction\n",
    "<br>\n",
    "In this group proposal, we will explore a dataset of different body measurements. The dataset for this study consists of measurements from 507 physically active individuals, split into 247 men and 260 women. It includes detailed demographic information (age, sex) and physical characteristics (weight, height, and various body girth measurements). Originating from a study on body dimensions related to physical fitness, it provides a comprehensive view of the human body's shape and size variations. We are going to use this dataset to analyze the correlation between physical attributes and sex to predict the same for new data. We will use histograms and tables to visualize the data initially and investigate it.The project will involve cleaning and preprocessing of the body measurements dataset, with implementation of appropriate algorithms and k-nearest-neighbor classification models to predict the sex of a person.<br><br>\n",
    "\n",
    "Predictive Question: How can we predict someone's sex based on height, weight and different body measurements?ween physical attributes and gender, leveraging statistical and machine learning techniques to predict gender based on body measurements with high accuracy.\"\n"
   ]
  },
  {
   "cell_type": "markdown",
   "id": "7e4dccbb-19ce-408d-b667-5107f57a25b0",
   "metadata": {},
   "source": [
    "### Methods & Results:\r",
    "<br>describe in written English the methods you used to perform your analysis from beginning to end that narrates the code the does the analysis.\r",
    "<br>\n",
    "your report should include code which:<br>\r\n",
    "loads data from the original source on the web<br> \r\n",
    "wrangles and cleans the data from it's original (downloaded) format to the format necessary for the planned analys<br>is\r\n",
    "performs a summary of the data set that is relevant for exploratory data analysis related to the planned analys<br>is \r\n",
    "creates a visualization of the dataset that is relevant for exploratory data analysis related to the planned anal<br>ysis\r\n",
    "performs the data ana<br>lysis\r\n",
    "creates a visualization of the ana<br>lysis \r\n",
    "note: all tables and figure should have a figure/table number and a legend a legend\r\n"
   ]
  },
  {
   "cell_type": "markdown",
   "id": "85158c1d-0589-463a-ba42-be5979ee45f6",
   "metadata": {},
   "source": [
    "### Discussion:\n",
    "<br>summarize what you found\n",
    "<br>discuss whether this is what you expected to find?\n",
    "<br>discuss what impact could such findings have?\n",
    "<br>discuss what future questions could this lead to?\n"
   ]
  },
  {
   "cell_type": "markdown",
   "id": "66380b9f-efef-4ea0-80b8-16b973f5ca6a",
   "metadata": {},
   "source": [
    "### References\n",
    "<br>At least 2 citations of literature relevant to the project (format is your choice, just be consistent across the references).\n",
    "<br>Make sure to cite the source of your data as well."
   ]
  },
  {
   "cell_type": "code",
   "execution_count": null,
   "id": "424d7f56-007d-41e8-9ea5-20bb43f2b4e9",
   "metadata": {},
   "outputs": [],
   "source": []
  }
 ],
 "metadata": {
  "kernelspec": {
   "display_name": "R",
   "language": "R",
   "name": "ir"
  },
  "language_info": {
   "codemirror_mode": "r",
   "file_extension": ".r",
   "mimetype": "text/x-r-source",
   "name": "R",
   "pygments_lexer": "r",
   "version": "4.3.1"
  }
 },
 "nbformat": 4,
 "nbformat_minor": 5
}
